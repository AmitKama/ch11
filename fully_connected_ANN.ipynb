{
  "nbformat": 4,
  "nbformat_minor": 0,
  "metadata": {
    "colab": {
      "provenance": []
    },
    "kernelspec": {
      "name": "python3",
      "display_name": "Python 3"
    },
    "language_info": {
      "name": "python"
    }
  },
  "cells": [
    {
      "cell_type": "markdown",
      "source": [
        "# Assignment No. 3"
      ],
      "metadata": {
        "id": "q3b9s3_6NRdH"
      }
    },
    {
      "cell_type": "markdown",
      "source": [
        "## Part 1 - A fully connected ANN implemented in PyTorch\n",
        "The model will be used to compare the predicted performance between it and the revised code (ch11_two_layers) and the original code (single hidden layer)."
      ],
      "metadata": {
        "id": "aeb-Akt-i1qP"
      }
    },
    {
      "cell_type": "code",
      "execution_count": 1,
      "metadata": {
        "colab": {
          "base_uri": "https://localhost:8080/"
        },
        "id": "XKXqq_LxisX9",
        "outputId": "5b186232-6653-4b55-a6a1-b31e157202b7"
      },
      "outputs": [
        {
          "output_type": "stream",
          "name": "stdout",
          "text": [
            "Requirement already satisfied: torch in /usr/local/lib/python3.10/dist-packages (2.0.1+cu118)\n",
            "Requirement already satisfied: filelock in /usr/local/lib/python3.10/dist-packages (from torch) (3.12.2)\n",
            "Requirement already satisfied: typing-extensions in /usr/local/lib/python3.10/dist-packages (from torch) (4.7.1)\n",
            "Requirement already satisfied: sympy in /usr/local/lib/python3.10/dist-packages (from torch) (1.11.1)\n",
            "Requirement already satisfied: networkx in /usr/local/lib/python3.10/dist-packages (from torch) (3.1)\n",
            "Requirement already satisfied: jinja2 in /usr/local/lib/python3.10/dist-packages (from torch) (3.1.2)\n",
            "Requirement already satisfied: triton==2.0.0 in /usr/local/lib/python3.10/dist-packages (from torch) (2.0.0)\n",
            "Requirement already satisfied: cmake in /usr/local/lib/python3.10/dist-packages (from triton==2.0.0->torch) (3.25.2)\n",
            "Requirement already satisfied: lit in /usr/local/lib/python3.10/dist-packages (from triton==2.0.0->torch) (16.0.6)\n",
            "Requirement already satisfied: MarkupSafe>=2.0 in /usr/local/lib/python3.10/dist-packages (from jinja2->torch) (2.1.3)\n",
            "Requirement already satisfied: mpmath>=0.19 in /usr/local/lib/python3.10/dist-packages (from sympy->torch) (1.3.0)\n"
          ]
        }
      ],
      "source": [
        "!pip install torch"
      ]
    },
    {
      "cell_type": "code",
      "source": [
        "!pip install torch torchvision"
      ],
      "metadata": {
        "colab": {
          "base_uri": "https://localhost:8080/"
        },
        "id": "yFdjIxEujben",
        "outputId": "08510e74-0ff5-4a4a-8f9f-537ad428a09e"
      },
      "execution_count": 2,
      "outputs": [
        {
          "output_type": "stream",
          "name": "stdout",
          "text": [
            "Requirement already satisfied: torch in /usr/local/lib/python3.10/dist-packages (2.0.1+cu118)\n",
            "Requirement already satisfied: torchvision in /usr/local/lib/python3.10/dist-packages (0.15.2+cu118)\n",
            "Requirement already satisfied: filelock in /usr/local/lib/python3.10/dist-packages (from torch) (3.12.2)\n",
            "Requirement already satisfied: typing-extensions in /usr/local/lib/python3.10/dist-packages (from torch) (4.7.1)\n",
            "Requirement already satisfied: sympy in /usr/local/lib/python3.10/dist-packages (from torch) (1.11.1)\n",
            "Requirement already satisfied: networkx in /usr/local/lib/python3.10/dist-packages (from torch) (3.1)\n",
            "Requirement already satisfied: jinja2 in /usr/local/lib/python3.10/dist-packages (from torch) (3.1.2)\n",
            "Requirement already satisfied: triton==2.0.0 in /usr/local/lib/python3.10/dist-packages (from torch) (2.0.0)\n",
            "Requirement already satisfied: cmake in /usr/local/lib/python3.10/dist-packages (from triton==2.0.0->torch) (3.25.2)\n",
            "Requirement already satisfied: lit in /usr/local/lib/python3.10/dist-packages (from triton==2.0.0->torch) (16.0.6)\n",
            "Requirement already satisfied: numpy in /usr/local/lib/python3.10/dist-packages (from torchvision) (1.22.4)\n",
            "Requirement already satisfied: requests in /usr/local/lib/python3.10/dist-packages (from torchvision) (2.27.1)\n",
            "Requirement already satisfied: pillow!=8.3.*,>=5.3.0 in /usr/local/lib/python3.10/dist-packages (from torchvision) (8.4.0)\n",
            "Requirement already satisfied: MarkupSafe>=2.0 in /usr/local/lib/python3.10/dist-packages (from jinja2->torch) (2.1.3)\n",
            "Requirement already satisfied: urllib3<1.27,>=1.21.1 in /usr/local/lib/python3.10/dist-packages (from requests->torchvision) (1.26.16)\n",
            "Requirement already satisfied: certifi>=2017.4.17 in /usr/local/lib/python3.10/dist-packages (from requests->torchvision) (2023.5.7)\n",
            "Requirement already satisfied: charset-normalizer~=2.0.0 in /usr/local/lib/python3.10/dist-packages (from requests->torchvision) (2.0.12)\n",
            "Requirement already satisfied: idna<4,>=2.5 in /usr/local/lib/python3.10/dist-packages (from requests->torchvision) (3.4)\n",
            "Requirement already satisfied: mpmath>=0.19 in /usr/local/lib/python3.10/dist-packages (from sympy->torch) (1.3.0)\n"
          ]
        }
      ]
    },
    {
      "cell_type": "code",
      "source": [
        "import torch\n",
        "import torch.nn as nn\n",
        "import torch.optim as optim\n",
        "import torch.nn.functional as F\n",
        "import numpy as np\n",
        "import torchvision"
      ],
      "metadata": {
        "id": "FbOAbjOCj63w"
      },
      "execution_count": 2,
      "outputs": []
    },
    {
      "cell_type": "code",
      "source": [
        "batch_size_train = 64\n",
        "train_loader = torch.utils.data.DataLoader(\n",
        "  torchvision.datasets.MNIST('/files/', train=True, download=True,\n",
        "                             transform=torchvision.transforms.Compose([\n",
        "                               torchvision.transforms.ToTensor(),\n",
        "                               torchvision.transforms.Normalize(\n",
        "                                 (0.1307,), (0.3081,))\n",
        "                             ])),\n",
        "  batch_size=batch_size_train, shuffle=True)"
      ],
      "metadata": {
        "colab": {
          "base_uri": "https://localhost:8080/"
        },
        "id": "faehgZMkAjE5",
        "outputId": "4b00c70d-2d86-4bab-95c3-8f4452964a8c"
      },
      "execution_count": 3,
      "outputs": [
        {
          "output_type": "stream",
          "name": "stdout",
          "text": [
            "Downloading http://yann.lecun.com/exdb/mnist/train-images-idx3-ubyte.gz\n",
            "Downloading http://yann.lecun.com/exdb/mnist/train-images-idx3-ubyte.gz to /files/MNIST/raw/train-images-idx3-ubyte.gz\n"
          ]
        },
        {
          "output_type": "stream",
          "name": "stderr",
          "text": [
            "100%|██████████| 9912422/9912422 [00:00<00:00, 360040798.82it/s]"
          ]
        },
        {
          "output_type": "stream",
          "name": "stdout",
          "text": [
            "Extracting /files/MNIST/raw/train-images-idx3-ubyte.gz to /files/MNIST/raw\n"
          ]
        },
        {
          "output_type": "stream",
          "name": "stderr",
          "text": [
            "\n"
          ]
        },
        {
          "output_type": "stream",
          "name": "stdout",
          "text": [
            "\n",
            "Downloading http://yann.lecun.com/exdb/mnist/train-labels-idx1-ubyte.gz\n",
            "Downloading http://yann.lecun.com/exdb/mnist/train-labels-idx1-ubyte.gz to /files/MNIST/raw/train-labels-idx1-ubyte.gz\n"
          ]
        },
        {
          "output_type": "stream",
          "name": "stderr",
          "text": [
            "100%|██████████| 28881/28881 [00:00<00:00, 28549538.96it/s]\n"
          ]
        },
        {
          "output_type": "stream",
          "name": "stdout",
          "text": [
            "Extracting /files/MNIST/raw/train-labels-idx1-ubyte.gz to /files/MNIST/raw\n",
            "\n",
            "Downloading http://yann.lecun.com/exdb/mnist/t10k-images-idx3-ubyte.gz\n",
            "Downloading http://yann.lecun.com/exdb/mnist/t10k-images-idx3-ubyte.gz to /files/MNIST/raw/t10k-images-idx3-ubyte.gz\n"
          ]
        },
        {
          "output_type": "stream",
          "name": "stderr",
          "text": [
            "100%|██████████| 1648877/1648877 [00:00<00:00, 108016921.20it/s]"
          ]
        },
        {
          "output_type": "stream",
          "name": "stdout",
          "text": [
            "Extracting /files/MNIST/raw/t10k-images-idx3-ubyte.gz to /files/MNIST/raw\n",
            "\n",
            "Downloading http://yann.lecun.com/exdb/mnist/t10k-labels-idx1-ubyte.gz\n",
            "Downloading http://yann.lecun.com/exdb/mnist/t10k-labels-idx1-ubyte.gz to /files/MNIST/raw/t10k-labels-idx1-ubyte.gz\n"
          ]
        },
        {
          "output_type": "stream",
          "name": "stderr",
          "text": [
            "\n",
            "100%|██████████| 4542/4542 [00:00<00:00, 7006446.77it/s]\n"
          ]
        },
        {
          "output_type": "stream",
          "name": "stdout",
          "text": [
            "Extracting /files/MNIST/raw/t10k-labels-idx1-ubyte.gz to /files/MNIST/raw\n",
            "\n"
          ]
        }
      ]
    },
    {
      "cell_type": "code",
      "source": [
        "batch_size_test = 1000\n",
        "test_loader = torch.utils.data.DataLoader(\n",
        "  torchvision.datasets.MNIST('/files/', train=False, download=True,\n",
        "                             transform=torchvision.transforms.Compose([\n",
        "                               torchvision.transforms.ToTensor(),\n",
        "                               torchvision.transforms.Normalize(\n",
        "                                 (0.1307,), (0.3081,))\n",
        "                             ])),\n",
        "  batch_size=batch_size_test, shuffle=True)"
      ],
      "metadata": {
        "id": "Qa2EWQwNAzJ4"
      },
      "execution_count": 4,
      "outputs": []
    },
    {
      "cell_type": "code",
      "source": [
        "examples = enumerate(test_loader)\n",
        "batch_idx, (example_data, example_targets) = next(examples)"
      ],
      "metadata": {
        "id": "hu5vHgl4BDYo"
      },
      "execution_count": 5,
      "outputs": []
    },
    {
      "cell_type": "code",
      "source": [
        "example_data"
      ],
      "metadata": {
        "colab": {
          "base_uri": "https://localhost:8080/"
        },
        "id": "m8tMCnp2BIde",
        "outputId": "735f48f4-fe57-49f9-e966-2c1faace303e"
      },
      "execution_count": 6,
      "outputs": [
        {
          "output_type": "execute_result",
          "data": {
            "text/plain": [
              "tensor([[[[-0.4242, -0.4242, -0.4242,  ..., -0.4242, -0.4242, -0.4242],\n",
              "          [-0.4242, -0.4242, -0.4242,  ..., -0.4242, -0.4242, -0.4242],\n",
              "          [-0.4242, -0.4242, -0.4242,  ..., -0.4242, -0.4242, -0.4242],\n",
              "          ...,\n",
              "          [-0.4242, -0.4242, -0.4242,  ..., -0.4242, -0.4242, -0.4242],\n",
              "          [-0.4242, -0.4242, -0.4242,  ..., -0.4242, -0.4242, -0.4242],\n",
              "          [-0.4242, -0.4242, -0.4242,  ..., -0.4242, -0.4242, -0.4242]]],\n",
              "\n",
              "\n",
              "        [[[-0.4242, -0.4242, -0.4242,  ..., -0.4242, -0.4242, -0.4242],\n",
              "          [-0.4242, -0.4242, -0.4242,  ..., -0.4242, -0.4242, -0.4242],\n",
              "          [-0.4242, -0.4242, -0.4242,  ..., -0.4242, -0.4242, -0.4242],\n",
              "          ...,\n",
              "          [-0.4242, -0.4242, -0.4242,  ..., -0.4242, -0.4242, -0.4242],\n",
              "          [-0.4242, -0.4242, -0.4242,  ..., -0.4242, -0.4242, -0.4242],\n",
              "          [-0.4242, -0.4242, -0.4242,  ..., -0.4242, -0.4242, -0.4242]]],\n",
              "\n",
              "\n",
              "        [[[-0.4242, -0.4242, -0.4242,  ..., -0.4242, -0.4242, -0.4242],\n",
              "          [-0.4242, -0.4242, -0.4242,  ..., -0.4242, -0.4242, -0.4242],\n",
              "          [-0.4242, -0.4242, -0.4242,  ..., -0.4242, -0.4242, -0.4242],\n",
              "          ...,\n",
              "          [-0.4242, -0.4242, -0.4242,  ..., -0.4242, -0.4242, -0.4242],\n",
              "          [-0.4242, -0.4242, -0.4242,  ..., -0.4242, -0.4242, -0.4242],\n",
              "          [-0.4242, -0.4242, -0.4242,  ..., -0.4242, -0.4242, -0.4242]]],\n",
              "\n",
              "\n",
              "        ...,\n",
              "\n",
              "\n",
              "        [[[-0.4242, -0.4242, -0.4242,  ..., -0.4242, -0.4242, -0.4242],\n",
              "          [-0.4242, -0.4242, -0.4242,  ..., -0.4242, -0.4242, -0.4242],\n",
              "          [-0.4242, -0.4242, -0.4242,  ..., -0.4242, -0.4242, -0.4242],\n",
              "          ...,\n",
              "          [-0.4242, -0.4242, -0.4242,  ..., -0.4242, -0.4242, -0.4242],\n",
              "          [-0.4242, -0.4242, -0.4242,  ..., -0.4242, -0.4242, -0.4242],\n",
              "          [-0.4242, -0.4242, -0.4242,  ..., -0.4242, -0.4242, -0.4242]]],\n",
              "\n",
              "\n",
              "        [[[-0.4242, -0.4242, -0.4242,  ..., -0.4242, -0.4242, -0.4242],\n",
              "          [-0.4242, -0.4242, -0.4242,  ..., -0.4242, -0.4242, -0.4242],\n",
              "          [-0.4242, -0.4242, -0.4242,  ..., -0.4242, -0.4242, -0.4242],\n",
              "          ...,\n",
              "          [-0.4242, -0.4242, -0.4242,  ..., -0.4242, -0.4242, -0.4242],\n",
              "          [-0.4242, -0.4242, -0.4242,  ..., -0.4242, -0.4242, -0.4242],\n",
              "          [-0.4242, -0.4242, -0.4242,  ..., -0.4242, -0.4242, -0.4242]]],\n",
              "\n",
              "\n",
              "        [[[-0.4242, -0.4242, -0.4242,  ..., -0.4242, -0.4242, -0.4242],\n",
              "          [-0.4242, -0.4242, -0.4242,  ..., -0.4242, -0.4242, -0.4242],\n",
              "          [-0.4242, -0.4242, -0.4242,  ..., -0.4242, -0.4242, -0.4242],\n",
              "          ...,\n",
              "          [-0.4242, -0.4242, -0.4242,  ..., -0.4242, -0.4242, -0.4242],\n",
              "          [-0.4242, -0.4242, -0.4242,  ..., -0.4242, -0.4242, -0.4242],\n",
              "          [-0.4242, -0.4242, -0.4242,  ..., -0.4242, -0.4242, -0.4242]]]])"
            ]
          },
          "metadata": {},
          "execution_count": 6
        }
      ]
    },
    {
      "cell_type": "code",
      "source": [
        "import matplotlib.pyplot as plt\n",
        "\n",
        "# example_data is a NumPy array containing the examples and ground truth labels\n",
        "# example_data[:, :-1] contains the examples (images)\n",
        "# example_data[:, -1] contains the ground truth labels\n",
        "\n",
        "fig, ax = plt.subplots(nrows=2, ncols=5, sharex=True, sharey=True)\n",
        "ax = ax.flatten()\n",
        "for i in range(10):\n",
        "    ax[i].imshow(example_data[i][0].reshape(28, 28), cmap='Greys')\n",
        "    ax[i].set_title(f'Ground Truth: {int(example_targets[i])}', fontsize=10)\n",
        "\n",
        "ax[0].set_xticks([])\n",
        "ax[0].set_yticks([])\n",
        "plt.tight_layout()\n",
        "plt.show()"
      ],
      "metadata": {
        "colab": {
          "base_uri": "https://localhost:8080/",
          "height": 367
        },
        "id": "H7U5lsNuBK5z",
        "outputId": "1d649673-1753-4d25-91d0-9fab2485bc81"
      },
      "execution_count": 7,
      "outputs": [
        {
          "output_type": "display_data",
          "data": {
            "text/plain": [
              "<Figure size 640x480 with 10 Axes>"
            ],
            "image/png": "[encoded data removed]"
          },
          "metadata": {}
        }
      ]
    },
    {
      "cell_type": "code",
      "source": [
        "import torch\n",
        "import torch.nn as nn\n",
        "import torch.optim as optim\n",
        "import torch.nn.functional as F\n",
        "\n",
        "class NeuralNet(nn.Module):\n",
        "    def __init__(self, num_features, num_hidden1, num_hidden2, num_classes):\n",
        "        super(NeuralNet, self).__init__()\n",
        "        self.fc1 = nn.Linear(num_features, num_hidden1)\n",
        "        self.fc2 = nn.Linear(num_hidden1, num_hidden2)\n",
        "        self.fc3 = nn.Linear(num_hidden2, num_classes)\n",
        "\n",
        "    def forward(self, x):\n",
        "        x = F.relu(self.fc1(x))\n",
        "        x = F.relu(self.fc2(x))\n",
        "        x = self.fc3(x)\n",
        "        return x\n",
        "\n",
        "# Define the network architecture and other hyperparameters\n",
        "num_features = 784  # Number of input features (assuming 28x28 images)\n",
        "num_hidden1 = 128   # Number of units in the first hidden layer\n",
        "num_hidden2 = 64    # Number of units in the second hidden layer\n",
        "num_classes = 10    # Number of output classes (for MNIST dataset)\n",
        "\n",
        "# Create an instance of the NeuralNet model\n",
        "model = NeuralNet(num_features, num_hidden1, num_hidden2, num_classes)\n",
        "\n",
        "# Define the loss function and optimizer\n",
        "criterion = nn.CrossEntropyLoss()  # Cross-entropy loss for multi-class classification\n",
        "optimizer = optim.SGD(model.parameters(), lr=0.1)\n",
        "\n",
        "X_train_tensor = example_data\n",
        "y_train_tensor = example_targets\n",
        "\n",
        "# Train the model\n",
        "num_epochs = 50\n",
        "batch_size = 100\n",
        "for epoch in range(num_epochs):\n",
        "    # Shuffle the data and create minibatches\n",
        "    indices = torch.randperm(X_train_tensor.shape[0])\n",
        "    for i in range(0, X_train_tensor.shape[0], batch_size):\n",
        "        batch_indices = indices[i:i + batch_size]\n",
        "        batch_inputs = X_train_tensor[batch_indices]\n",
        "        batch_labels = y_train_tensor[batch_indices]\n",
        "\n",
        "        # Forward pass\n",
        "        outputs = model(batch_inputs.view(-1, num_features))  # Reshape batch_inputs to (batch_size, num_features)\n",
        "\n",
        "        # Compute the loss\n",
        "        loss = criterion(outputs, batch_labels)\n",
        "\n",
        "        # Backpropagation and optimization\n",
        "        optimizer.zero_grad()\n",
        "        loss.backward()\n",
        "        optimizer.step()\n",
        "\n",
        "    print(f\"Epoch {epoch + 1}/{num_epochs}, Loss: {loss.item():.4f}\")\n",
        "\n",
        "# Testing the model\n",
        "model.eval()  # Set the model to evaluation mode\n",
        "with torch.no_grad():\n",
        "    test_outputs = model(X_train_tensor.view(-1, num_features))  # Reshape X_train_tensor to (batch_size, num_features)\n",
        "    test_loss = criterion(test_outputs, y_train_tensor)\n",
        "    _, predicted_labels = torch.max(test_outputs, 1)\n",
        "    accuracy = (predicted_labels == y_train_tensor).sum().item() / len(y_train_tensor)\n",
        "    print(f\"Test Loss: {test_loss.item():.4f}, Test Accuracy: {accuracy * 100:.2f}%\")"
      ],
      "metadata": {
        "colab": {
          "base_uri": "https://localhost:8080/"
        },
        "id": "Z774mU2F_7Ya",
        "outputId": "01001039-1db6-4280-9cd3-1cb7e646a382"
      },
      "execution_count": 41,
      "outputs": [
        {
          "output_type": "stream",
          "name": "stdout",
          "text": [
            "Epoch 1/50, Loss: 2.0247\n",
            "Epoch 2/50, Loss: 1.3419\n",
            "Epoch 3/50, Loss: 0.7902\n",
            "Epoch 4/50, Loss: 0.6169\n",
            "Epoch 5/50, Loss: 0.6321\n",
            "Epoch 6/50, Loss: 0.5668\n",
            "Epoch 7/50, Loss: 0.3474\n",
            "Epoch 8/50, Loss: 0.3059\n",
            "Epoch 9/50, Loss: 0.3233\n",
            "Epoch 10/50, Loss: 0.2089\n",
            "Epoch 11/50, Loss: 0.1534\n",
            "Epoch 12/50, Loss: 0.2178\n",
            "Epoch 13/50, Loss: 0.1576\n",
            "Epoch 14/50, Loss: 0.1616\n",
            "Epoch 15/50, Loss: 0.1199\n",
            "Epoch 16/50, Loss: 0.1252\n",
            "Epoch 17/50, Loss: 0.0813\n",
            "Epoch 18/50, Loss: 0.0670\n",
            "Epoch 19/50, Loss: 0.0482\n",
            "Epoch 20/50, Loss: 0.0693\n",
            "Epoch 21/50, Loss: 0.0649\n",
            "Epoch 22/50, Loss: 0.0372\n",
            "Epoch 23/50, Loss: 0.0486\n",
            "Epoch 24/50, Loss: 0.0424\n",
            "Epoch 25/50, Loss: 0.0309\n",
            "Epoch 26/50, Loss: 0.0379\n",
            "Epoch 27/50, Loss: 0.0297\n",
            "Epoch 28/50, Loss: 0.0302\n",
            "Epoch 29/50, Loss: 0.0250\n",
            "Epoch 30/50, Loss: 0.0178\n",
            "Epoch 31/50, Loss: 0.0132\n",
            "Epoch 32/50, Loss: 0.0174\n",
            "Epoch 33/50, Loss: 0.0189\n",
            "Epoch 34/50, Loss: 0.0149\n",
            "Epoch 35/50, Loss: 0.0145\n",
            "Epoch 36/50, Loss: 0.0175\n",
            "Epoch 37/50, Loss: 0.0142\n",
            "Epoch 38/50, Loss: 0.0135\n",
            "Epoch 39/50, Loss: 0.0121\n",
            "Epoch 40/50, Loss: 0.0126\n",
            "Epoch 41/50, Loss: 0.0175\n",
            "Epoch 42/50, Loss: 0.0114\n",
            "Epoch 43/50, Loss: 0.0112\n",
            "Epoch 44/50, Loss: 0.0123\n",
            "Epoch 45/50, Loss: 0.0112\n",
            "Epoch 46/50, Loss: 0.0117\n",
            "Epoch 47/50, Loss: 0.0086\n",
            "Epoch 48/50, Loss: 0.0047\n",
            "Epoch 49/50, Loss: 0.0117\n",
            "Epoch 50/50, Loss: 0.0075\n",
            "Test Loss: 0.0074, Test Accuracy: 100.00%\n"
          ]
        }
      ]
    },
    {
      "cell_type": "code",
      "source": [
        "import torch\n",
        "import torch.nn as nn\n",
        "import torch.optim as optim\n",
        "import torch.nn.functional as F\n",
        "import matplotlib.pyplot as plt\n",
        "\n",
        "# Define the neural network architecture\n",
        "class NeuralNet(nn.Module):\n",
        "    def __init__(self, num_features, num_hidden1, num_hidden2, num_classes):\n",
        "        super(NeuralNet, self).__init__()\n",
        "        self.fc1 = nn.Linear(num_features, num_hidden1)\n",
        "        self.fc2 = nn.Linear(num_hidden1, num_hidden2)\n",
        "        self.fc3 = nn.Linear(num_hidden2, num_classes)\n",
        "\n",
        "    def forward(self, x):\n",
        "        x = F.relu(self.fc1(x))\n",
        "        x = F.relu(self.fc2(x))\n",
        "        x = self.fc3(x)\n",
        "        return x\n",
        "\n",
        "X_train_tensor = example_data.view(example_data.size(0), -1)  # Flatten the input images\n",
        "y_train_tensor = example_targets.squeeze()  # Convert y_train_tensor to a 1-dimensional tensor\n",
        "\n",
        "# Define the network architecture and other hyperparameters\n",
        "num_features = X_train_tensor.shape[1]  # Number of input features\n",
        "num_hidden1 = 128   # Number of units in the first hidden layer\n",
        "num_hidden2 = 64    # Number of units in the second hidden layer\n",
        "num_classes = torch.max(y_train_tensor) + 1  # Number of output classes\n",
        "\n",
        "# Create an instance of the NeuralNet model\n",
        "model = NeuralNet(num_features, num_hidden1, num_hidden2, num_classes)\n",
        "\n",
        "# Define the loss function (CrossEntropyLoss) and optimizer\n",
        "criterion = nn.CrossEntropyLoss()\n",
        "optimizer = optim.SGD(model.parameters(), lr=0.1)\n",
        "\n",
        "# Train the model\n",
        "epoch_loss = []  # Store the CrossEntropy loss for each epoch\n",
        "num_epochs = 50\n",
        "batch_size = 100\n",
        "for epoch in range(num_epochs):\n",
        "    # Shuffle the data and create minibatches\n",
        "    indices = torch.randperm(X_train_tensor.shape[0])\n",
        "    for i in range(0, X_train_tensor.shape[0], batch_size):\n",
        "        batch_indices = indices[i:i + batch_size]\n",
        "        batch_inputs = X_train_tensor[batch_indices]\n",
        "        batch_labels = y_train_tensor[batch_indices]\n",
        "\n",
        "        # Forward pass\n",
        "        outputs = model(batch_inputs)\n",
        "\n",
        "        # Compute the CrossEntropy loss\n",
        "        loss = criterion(outputs, batch_labels)\n",
        "\n",
        "        # Backpropagation and optimization\n",
        "        optimizer.zero_grad()\n",
        "        loss.backward()\n",
        "        optimizer.step()\n",
        "\n",
        "    epoch_loss.append(loss.item())\n",
        "    print(f\"Epoch {epoch + 1}/{num_epochs}, CrossEntropy Loss: {loss.item():.4f}\")\n",
        "\n",
        "# Testing the model\n",
        "model.eval()  # Set the model to evaluation mode\n",
        "with torch.no_grad():\n",
        "    test_outputs = model(X_train_tensor.view(-1, num_features))  # Reshape X_train_tensor to (batch_size, num_features)\n",
        "    test_loss = criterion(test_outputs, y_train_tensor)\n",
        "    _, predicted_labels = torch.max(test_outputs, 1)\n",
        "    accuracy = (predicted_labels == y_train_tensor).sum().item() / len(y_train_tensor)\n",
        "    print(f\"Test Loss: {test_loss.item():.4f}, Test Accuracy: {accuracy * 100:.2f}%\")"
      ],
      "metadata": {
        "colab": {
          "base_uri": "https://localhost:8080/"
        },
        "id": "towVWBngUKGq",
        "outputId": "be5d556d-43bd-4e89-82d3-383ca4ecd63c"
      },
      "execution_count": 10,
      "outputs": [
        {
          "output_type": "stream",
          "name": "stdout",
          "text": [
            "Epoch 1/50, CrossEntropy Loss: 1.9996\n",
            "Epoch 2/50, CrossEntropy Loss: 1.3263\n",
            "Epoch 3/50, CrossEntropy Loss: 0.9561\n",
            "Epoch 4/50, CrossEntropy Loss: 0.6917\n",
            "Epoch 5/50, CrossEntropy Loss: 0.4443\n",
            "Epoch 6/50, CrossEntropy Loss: 0.3773\n",
            "Epoch 7/50, CrossEntropy Loss: 0.4641\n",
            "Epoch 8/50, CrossEntropy Loss: 0.3330\n",
            "Epoch 9/50, CrossEntropy Loss: 0.3167\n",
            "Epoch 10/50, CrossEntropy Loss: 0.2742\n",
            "Epoch 11/50, CrossEntropy Loss: 0.2406\n",
            "Epoch 12/50, CrossEntropy Loss: 0.1794\n",
            "Epoch 13/50, CrossEntropy Loss: 0.1446\n",
            "Epoch 14/50, CrossEntropy Loss: 0.1562\n",
            "Epoch 15/50, CrossEntropy Loss: 0.0785\n",
            "Epoch 16/50, CrossEntropy Loss: 0.1117\n",
            "Epoch 17/50, CrossEntropy Loss: 0.0815\n",
            "Epoch 18/50, CrossEntropy Loss: 0.1345\n",
            "Epoch 19/50, CrossEntropy Loss: 0.0611\n",
            "Epoch 20/50, CrossEntropy Loss: 0.0721\n",
            "Epoch 21/50, CrossEntropy Loss: 0.0646\n",
            "Epoch 22/50, CrossEntropy Loss: 0.0624\n",
            "Epoch 23/50, CrossEntropy Loss: 0.0478\n",
            "Epoch 24/50, CrossEntropy Loss: 0.0314\n",
            "Epoch 25/50, CrossEntropy Loss: 0.0407\n",
            "Epoch 26/50, CrossEntropy Loss: 0.0404\n",
            "Epoch 27/50, CrossEntropy Loss: 0.0404\n",
            "Epoch 28/50, CrossEntropy Loss: 0.0424\n",
            "Epoch 29/50, CrossEntropy Loss: 0.0237\n",
            "Epoch 30/50, CrossEntropy Loss: 0.0194\n",
            "Epoch 31/50, CrossEntropy Loss: 0.0282\n",
            "Epoch 32/50, CrossEntropy Loss: 0.0207\n",
            "Epoch 33/50, CrossEntropy Loss: 0.0204\n",
            "Epoch 34/50, CrossEntropy Loss: 0.0109\n",
            "Epoch 35/50, CrossEntropy Loss: 0.0158\n",
            "Epoch 36/50, CrossEntropy Loss: 0.0160\n",
            "Epoch 37/50, CrossEntropy Loss: 0.0140\n",
            "Epoch 38/50, CrossEntropy Loss: 0.0151\n",
            "Epoch 39/50, CrossEntropy Loss: 0.0134\n",
            "Epoch 40/50, CrossEntropy Loss: 0.0100\n",
            "Epoch 41/50, CrossEntropy Loss: 0.0152\n",
            "Epoch 42/50, CrossEntropy Loss: 0.0142\n",
            "Epoch 43/50, CrossEntropy Loss: 0.0076\n",
            "Epoch 44/50, CrossEntropy Loss: 0.0109\n",
            "Epoch 45/50, CrossEntropy Loss: 0.0071\n",
            "Epoch 46/50, CrossEntropy Loss: 0.0128\n",
            "Epoch 47/50, CrossEntropy Loss: 0.0082\n",
            "Epoch 48/50, CrossEntropy Loss: 0.0117\n",
            "Epoch 49/50, CrossEntropy Loss: 0.0067\n",
            "Epoch 50/50, CrossEntropy Loss: 0.0095\n",
            "Test Loss: 0.0077, Test Accuracy: 100.00%\n"
          ]
        }
      ]
    },
    {
      "cell_type": "code",
      "source": [
        "import torch\n",
        "import torch.nn as nn\n",
        "import torch.optim as optim\n",
        "import torch.nn.functional as F\n",
        "import matplotlib.pyplot as plt\n",
        "\n",
        "# Define the neural network architecture\n",
        "class NeuralNet(nn.Module):\n",
        "    def __init__(self, num_features, num_hidden1, num_hidden2, num_classes):\n",
        "        super(NeuralNet, self).__init__()\n",
        "        self.fc1 = nn.Linear(num_features, num_hidden1)\n",
        "        self.fc2 = nn.Linear(num_hidden1, num_hidden2)\n",
        "        self.fc3 = nn.Linear(num_hidden2, num_classes)\n",
        "\n",
        "    def forward(self, x):\n",
        "        x = F.relu(self.fc1(x))\n",
        "        x = F.relu(self.fc2(x))\n",
        "        x = self.fc3(x)\n",
        "        return x\n",
        "\n",
        "X_train_tensor = example_data.view(example_data.size(0), -1)  # Flatten the input images\n",
        "y_train_tensor = example_targets.squeeze()  # Convert y_train_tensor to a 1-dimensional tensor\n",
        "\n",
        "# Define the network architecture and other hyperparameters\n",
        "num_features = 784\n",
        "num_hidden1 = 128   # Number of units in the first hidden layer\n",
        "num_hidden2 = 64    # Number of units in the second hidden layer\n",
        "num_classes = 10\n",
        "\n",
        "# Create an instance of the NeuralNet model\n",
        "model = NeuralNet(num_features, num_hidden1, num_hidden2, num_classes)\n",
        "\n",
        "# Define the loss function (CrossEntropyLoss) and optimizer\n",
        "criterion = nn.CrossEntropyLoss()\n",
        "optimizer = optim.SGD(model.parameters(), lr=0.1)\n",
        "\n",
        "# Convert numpy arrays to PyTorch tensors for validation data\n",
        "X_train_tensor = torch.tensor(example_data, dtype=torch.float32)\n",
        "y_train_tensor = torch.tensor(example_targets, dtype=torch.long)\n",
        "\n",
        "# Reshape the input data to a 2D tensor\n",
        "X_train_tensor = X_train_tensor.view(-1, num_features)\n",
        "\n",
        "# Split the data into training and validation sets\n",
        "train_size = int(0.8 * len(X_train_tensor))\n",
        "X_train_tensor, X_valid_tensor = X_train_tensor[:train_size], X_train_tensor[train_size:]\n",
        "y_train_tensor, y_valid_tensor = y_train_tensor[:train_size], y_train_tensor[train_size:]\n",
        "\n",
        "# Train the model\n",
        "epoch_loss = []  # Store the CrossEntropy loss for each epoch\n",
        "epoch_train_acc = []  # Store the training accuracy for each epoch\n",
        "epoch_valid_acc = []  # Store the validation accuracy for each epoch\n",
        "num_epochs = 50\n",
        "batch_size = 100\n",
        "for epoch in range(num_epochs):\n",
        "    # Shuffle the data and create minibatches\n",
        "    indices = torch.randperm(X_train_tensor.shape[0])\n",
        "    for i in range(0, X_train_tensor.shape[0], batch_size):\n",
        "        batch_indices = indices[i:i + batch_size]\n",
        "        batch_inputs = X_train_tensor[batch_indices]\n",
        "        batch_labels = y_train_tensor[batch_indices]\n",
        "\n",
        "        # Forward pass\n",
        "        outputs = model(batch_inputs)\n",
        "\n",
        "        # Compute the CrossEntropy loss\n",
        "        loss = criterion(outputs, batch_labels)\n",
        "\n",
        "        # Backpropagation and optimization\n",
        "        optimizer.zero_grad()\n",
        "        loss.backward()\n",
        "        optimizer.step()\n",
        "\n",
        "    # Compute training and validation accuracies for this epoch\n",
        "    with torch.no_grad():\n",
        "        model.eval()\n",
        "        train_outputs = model(X_train_tensor)\n",
        "        train_accuracy = (torch.argmax(train_outputs, dim=1) == y_train_tensor).float().mean().item()\n",
        "        valid_outputs = model(X_valid_tensor)\n",
        "        valid_accuracy = (torch.argmax(valid_outputs, dim=1) == y_valid_tensor).float().mean().item()\n",
        "        model.train()\n",
        "\n",
        "    epoch_loss.append(loss.item())\n",
        "    epoch_train_acc.append(train_accuracy)\n",
        "    epoch_valid_acc.append(valid_accuracy)\n",
        "    print(f\"Epoch {epoch + 1}/{num_epochs}, CrossEntropy Loss: {loss.item():.4f}, \"\n",
        "          f\"Train Accuracy: {train_accuracy:.4f}, Valid Accuracy: {valid_accuracy:.4f}\")\n",
        "\n",
        "# Testing the model\n",
        "model.eval()  # Set the model to evaluation mode\n",
        "with torch.no_grad():\n",
        "    test_outputs = model(X_train_tensor.view(-1, num_features))  # Reshape X_train_tensor to (batch_size, num_features)\n",
        "    test_loss = criterion(test_outputs, y_train_tensor)\n",
        "    _, predicted_labels = torch.max(test_outputs, 1)\n",
        "    accuracy = (predicted_labels == y_train_tensor).sum().item() / len(y_train_tensor)\n",
        "    print(f\"Test Loss: {test_loss.item():.4f}, Test Accuracy: {accuracy * 100:.2f}%\")"
      ],
      "metadata": {
        "colab": {
          "base_uri": "https://localhost:8080/"
        },
        "id": "VJAqsTuJYDn2",
        "outputId": "f4c4ac84-91ae-4772-9c7b-c1a4cbd77293"
      },
      "execution_count": 13,
      "outputs": [
        {
          "output_type": "stream",
          "name": "stderr",
          "text": [
            "<ipython-input-13-e976044ec798>:39: UserWarning: To copy construct from a tensor, it is recommended to use sourceTensor.clone().detach() or sourceTensor.clone().detach().requires_grad_(True), rather than torch.tensor(sourceTensor).\n",
            "  X_train_tensor = torch.tensor(example_data, dtype=torch.float32)\n",
            "<ipython-input-13-e976044ec798>:40: UserWarning: To copy construct from a tensor, it is recommended to use sourceTensor.clone().detach() or sourceTensor.clone().detach().requires_grad_(True), rather than torch.tensor(sourceTensor).\n",
            "  y_train_tensor = torch.tensor(example_targets, dtype=torch.long)\n"
          ]
        },
        {
          "output_type": "stream",
          "name": "stdout",
          "text": [
            "Epoch 1/50, CrossEntropy Loss: 2.0854, Train Accuracy: 0.4812, Valid Accuracy: 0.4400\n",
            "Epoch 2/50, CrossEntropy Loss: 1.5510, Train Accuracy: 0.6712, Valid Accuracy: 0.6400\n",
            "Epoch 3/50, CrossEntropy Loss: 1.1985, Train Accuracy: 0.6975, Valid Accuracy: 0.6900\n",
            "Epoch 4/50, CrossEntropy Loss: 0.8831, Train Accuracy: 0.7638, Valid Accuracy: 0.7550\n",
            "Epoch 5/50, CrossEntropy Loss: 0.6824, Train Accuracy: 0.7337, Valid Accuracy: 0.7000\n",
            "Epoch 6/50, CrossEntropy Loss: 0.5650, Train Accuracy: 0.8913, Valid Accuracy: 0.8550\n",
            "Epoch 7/50, CrossEntropy Loss: 0.5053, Train Accuracy: 0.8775, Valid Accuracy: 0.8650\n",
            "Epoch 8/50, CrossEntropy Loss: 0.2327, Train Accuracy: 0.9000, Valid Accuracy: 0.8500\n",
            "Epoch 9/50, CrossEntropy Loss: 0.4436, Train Accuracy: 0.9125, Valid Accuracy: 0.8600\n",
            "Epoch 10/50, CrossEntropy Loss: 0.2552, Train Accuracy: 0.9275, Valid Accuracy: 0.8550\n",
            "Epoch 11/50, CrossEntropy Loss: 0.2533, Train Accuracy: 0.9463, Valid Accuracy: 0.8800\n",
            "Epoch 12/50, CrossEntropy Loss: 0.3072, Train Accuracy: 0.9350, Valid Accuracy: 0.8650\n",
            "Epoch 13/50, CrossEntropy Loss: 0.1928, Train Accuracy: 0.9613, Valid Accuracy: 0.8850\n",
            "Epoch 14/50, CrossEntropy Loss: 0.1948, Train Accuracy: 0.9563, Valid Accuracy: 0.8650\n",
            "Epoch 15/50, CrossEntropy Loss: 0.1770, Train Accuracy: 0.9787, Valid Accuracy: 0.8950\n",
            "Epoch 16/50, CrossEntropy Loss: 0.2007, Train Accuracy: 0.9775, Valid Accuracy: 0.8900\n",
            "Epoch 17/50, CrossEntropy Loss: 0.1625, Train Accuracy: 0.9775, Valid Accuracy: 0.8850\n",
            "Epoch 18/50, CrossEntropy Loss: 0.0952, Train Accuracy: 0.9875, Valid Accuracy: 0.8900\n",
            "Epoch 19/50, CrossEntropy Loss: 0.1328, Train Accuracy: 0.9850, Valid Accuracy: 0.8850\n",
            "Epoch 20/50, CrossEntropy Loss: 0.0637, Train Accuracy: 0.9925, Valid Accuracy: 0.9050\n",
            "Epoch 21/50, CrossEntropy Loss: 0.0793, Train Accuracy: 0.9925, Valid Accuracy: 0.8850\n",
            "Epoch 22/50, CrossEntropy Loss: 0.0534, Train Accuracy: 0.9975, Valid Accuracy: 0.8850\n",
            "Epoch 23/50, CrossEntropy Loss: 0.0600, Train Accuracy: 0.9975, Valid Accuracy: 0.8900\n",
            "Epoch 24/50, CrossEntropy Loss: 0.1495, Train Accuracy: 0.9787, Valid Accuracy: 0.8750\n",
            "Epoch 25/50, CrossEntropy Loss: 0.0452, Train Accuracy: 0.9975, Valid Accuracy: 0.8900\n",
            "Epoch 26/50, CrossEntropy Loss: 0.0593, Train Accuracy: 0.9975, Valid Accuracy: 0.8750\n",
            "Epoch 27/50, CrossEntropy Loss: 0.0468, Train Accuracy: 0.9975, Valid Accuracy: 0.8900\n",
            "Epoch 28/50, CrossEntropy Loss: 0.0360, Train Accuracy: 0.9987, Valid Accuracy: 0.9000\n",
            "Epoch 29/50, CrossEntropy Loss: 0.0293, Train Accuracy: 0.9987, Valid Accuracy: 0.9000\n",
            "Epoch 30/50, CrossEntropy Loss: 0.0301, Train Accuracy: 0.9987, Valid Accuracy: 0.8900\n",
            "Epoch 31/50, CrossEntropy Loss: 0.0203, Train Accuracy: 1.0000, Valid Accuracy: 0.9000\n",
            "Epoch 32/50, CrossEntropy Loss: 0.0278, Train Accuracy: 1.0000, Valid Accuracy: 0.8850\n",
            "Epoch 33/50, CrossEntropy Loss: 0.0190, Train Accuracy: 1.0000, Valid Accuracy: 0.8950\n",
            "Epoch 34/50, CrossEntropy Loss: 0.0290, Train Accuracy: 1.0000, Valid Accuracy: 0.8950\n",
            "Epoch 35/50, CrossEntropy Loss: 0.0229, Train Accuracy: 1.0000, Valid Accuracy: 0.8900\n",
            "Epoch 36/50, CrossEntropy Loss: 0.0191, Train Accuracy: 1.0000, Valid Accuracy: 0.8900\n",
            "Epoch 37/50, CrossEntropy Loss: 0.0271, Train Accuracy: 1.0000, Valid Accuracy: 0.8900\n",
            "Epoch 38/50, CrossEntropy Loss: 0.0189, Train Accuracy: 1.0000, Valid Accuracy: 0.8950\n",
            "Epoch 39/50, CrossEntropy Loss: 0.0138, Train Accuracy: 1.0000, Valid Accuracy: 0.8950\n",
            "Epoch 40/50, CrossEntropy Loss: 0.0151, Train Accuracy: 1.0000, Valid Accuracy: 0.8900\n",
            "Epoch 41/50, CrossEntropy Loss: 0.0131, Train Accuracy: 1.0000, Valid Accuracy: 0.9000\n",
            "Epoch 42/50, CrossEntropy Loss: 0.0139, Train Accuracy: 1.0000, Valid Accuracy: 0.8950\n",
            "Epoch 43/50, CrossEntropy Loss: 0.0143, Train Accuracy: 1.0000, Valid Accuracy: 0.8900\n",
            "Epoch 44/50, CrossEntropy Loss: 0.0151, Train Accuracy: 1.0000, Valid Accuracy: 0.8900\n",
            "Epoch 45/50, CrossEntropy Loss: 0.0190, Train Accuracy: 1.0000, Valid Accuracy: 0.8900\n",
            "Epoch 46/50, CrossEntropy Loss: 0.0155, Train Accuracy: 1.0000, Valid Accuracy: 0.9000\n",
            "Epoch 47/50, CrossEntropy Loss: 0.0117, Train Accuracy: 1.0000, Valid Accuracy: 0.8950\n",
            "Epoch 48/50, CrossEntropy Loss: 0.0116, Train Accuracy: 1.0000, Valid Accuracy: 0.8850\n",
            "Epoch 49/50, CrossEntropy Loss: 0.0144, Train Accuracy: 1.0000, Valid Accuracy: 0.8900\n",
            "Epoch 50/50, CrossEntropy Loss: 0.0113, Train Accuracy: 1.0000, Valid Accuracy: 0.8950\n",
            "Test Loss: 0.0096, Test Accuracy: 100.00%\n"
          ]
        }
      ]
    },
    {
      "cell_type": "code",
      "source": [
        "# Plot the training loss (CrossEntropy) over the epochs\n",
        "plt.plot(range(len(epoch_loss)), epoch_loss, label='CrossEntropy Loss')\n",
        "plt.ylabel('CrossEntropy Loss')\n",
        "plt.xlabel('Epoch')\n",
        "plt.title('Training Loss')\n",
        "plt.legend()\n",
        "plt.show()"
      ],
      "metadata": {
        "colab": {
          "base_uri": "https://localhost:8080/",
          "height": 472
        },
        "id": "OCysw0d0aYy3",
        "outputId": "d378be6c-0e10-48d4-a279-4f2b8cc93386"
      },
      "execution_count": 14,
      "outputs": [
        {
          "output_type": "display_data",
          "data": {
            "text/plain": [
              "<Figure size 640x480 with 1 Axes>"
            ],
            "image/png": "[encoded data removed]"
          },
          "metadata": {}
        }
      ]
    },
    {
      "cell_type": "code",
      "source": [
        "# Plot the training and validation accuracies over the epochs\n",
        "plt.plot(range(len(epoch_train_acc)), epoch_train_acc, label='Training Accuracy')\n",
        "plt.plot(range(len(epoch_valid_acc)), epoch_valid_acc, label='Validation Accuracy')\n",
        "plt.ylabel('Accuracy')\n",
        "plt.xlabel('Epochs')\n",
        "plt.legend(loc='lower right')\n",
        "plt.title('Training and Validation Accuracies')\n",
        "plt.show()"
      ],
      "metadata": {
        "colab": {
          "base_uri": "https://localhost:8080/",
          "height": 472
        },
        "id": "6hZi2MulWlsZ",
        "outputId": "adc79cf3-233e-4b3d-f718-27e49576d0a5"
      },
      "execution_count": 15,
      "outputs": [
        {
          "output_type": "display_data",
          "data": {
            "text/plain": [
              "<Figure size 640x480 with 1 Axes>"
            ],
            "image/png": "[encoded data removed]"
          },
          "metadata": {}
        }
      ]
    },
    {
      "cell_type": "code",
      "source": [
        "import matplotlib.pyplot as plt\n",
        "\n",
        "# example_data is a NumPy array containing the examples and ground truth labels\n",
        "# example_data[:, :-1] contains the examples (images)\n",
        "# example_data[:, -1] contains the ground truth labels\n",
        "\n",
        "fig, ax = plt.subplots(nrows=2, ncols=5, sharex=True, sharey=True)\n",
        "ax = ax.flatten()\n",
        "model.eval()\n",
        "\n",
        "for i in range(10):\n",
        "    example_image = example_data[i][0]\n",
        "    example_image_tensor = torch.tensor(example_image, dtype=torch.float32)\n",
        "    example_image_tensor = example_image_tensor.view(1, -1)  # Reshape to (1, num_features)\n",
        "\n",
        "    # Make a prediction using the trained model\n",
        "    with torch.no_grad():\n",
        "        output = model(example_image_tensor)\n",
        "        _, predicted_label = torch.max(output, 1)\n",
        "        predicted_label = predicted_label.item()  # Get the predicted label as a Python scalar\n",
        "\n",
        "    # Plot the example image and set the title to show the predicted label\n",
        "    ax[i].imshow(example_image.reshape(28, 28), cmap='Greys')\n",
        "    ax[i].set_title(f'Predicted: {predicted_label}', fontsize=10)\n",
        "\n",
        "ax[0].set_xticks([])\n",
        "ax[0].set_yticks([])\n",
        "plt.tight_layout()\n",
        "plt.show()"
      ],
      "metadata": {
        "colab": {
          "base_uri": "https://localhost:8080/",
          "height": 422
        },
        "id": "sRrB1AJ5QwJc",
        "outputId": "4b88bfa3-96eb-49cc-df48-8048dd719a95"
      },
      "execution_count": 16,
      "outputs": [
        {
          "output_type": "stream",
          "name": "stderr",
          "text": [
            "<ipython-input-16-a606842649f2>:13: UserWarning: To copy construct from a tensor, it is recommended to use sourceTensor.clone().detach() or sourceTensor.clone().detach().requires_grad_(True), rather than torch.tensor(sourceTensor).\n",
            "  example_image_tensor = torch.tensor(example_image, dtype=torch.float32)\n"
          ]
        },
        {
          "output_type": "display_data",
          "data": {
            "text/plain": [
              "<Figure size 640x480 with 10 Axes>"
            ],
            "image/png": "[encoded data removed]"
          },
          "metadata": {}
        }
      ]
    }
  ]
}